{
 "cells": [
  {
   "cell_type": "code",
   "execution_count": 1,
   "id": "1541d710",
   "metadata": {
    "execution": {
     "iopub.execute_input": "2024-06-25T17:18:08.674090Z",
     "iopub.status.busy": "2024-06-25T17:18:08.673668Z",
     "iopub.status.idle": "2024-06-25T17:29:15.455628Z",
     "shell.execute_reply": "2024-06-25T17:29:15.454416Z"
    },
    "id": "VjYy0F2gZIPR",
    "papermill": {
     "duration": 666.78892,
     "end_time": "2024-06-25T17:29:15.458555",
     "exception": false,
     "start_time": "2024-06-25T17:18:08.669635",
     "status": "completed"
    },
    "tags": []
   },
   "outputs": [
    {
     "name": "stdout",
     "output_type": "stream",
     "text": [
      "Requirement already satisfied: ninja in /opt/conda/lib/python3.10/site-packages (1.11.1.1)\r\n",
      "\u001b[33mWARNING: Retrying (Retry(total=4, connect=None, read=None, redirect=None, status=None)) after connection broken by 'NewConnectionError('<pip._vendor.urllib3.connection.HTTPSConnection object at 0x7eca21560c70>: Failed to establish a new connection: [Errno -3] Temporary failure in name resolution')': /simple/colossalai/\u001b[0m\u001b[33m\r\n",
      "\u001b[0m\u001b[33mWARNING: Retrying (Retry(total=3, connect=None, read=None, redirect=None, status=None)) after connection broken by 'NewConnectionError('<pip._vendor.urllib3.connection.HTTPSConnection object at 0x7eca21560f70>: Failed to establish a new connection: [Errno -3] Temporary failure in name resolution')': /simple/colossalai/\u001b[0m\u001b[33m\r\n",
      "\u001b[0m\u001b[33mWARNING: Retrying (Retry(total=2, connect=None, read=None, redirect=None, status=None)) after connection broken by 'NewConnectionError('<pip._vendor.urllib3.connection.HTTPSConnection object at 0x7eca21561120>: Failed to establish a new connection: [Errno -3] Temporary failure in name resolution')': /simple/colossalai/\u001b[0m\u001b[33m\r\n",
      "\u001b[0m\u001b[33mWARNING: Retrying (Retry(total=1, connect=None, read=None, redirect=None, status=None)) after connection broken by 'NewConnectionError('<pip._vendor.urllib3.connection.HTTPSConnection object at 0x7eca215612d0>: Failed to establish a new connection: [Errno -3] Temporary failure in name resolution')': /simple/colossalai/\u001b[0m\u001b[33m\r\n",
      "\u001b[0m\u001b[33mWARNING: Retrying (Retry(total=0, connect=None, read=None, redirect=None, status=None)) after connection broken by 'NewConnectionError('<pip._vendor.urllib3.connection.HTTPSConnection object at 0x7eca21561480>: Failed to establish a new connection: [Errno -3] Temporary failure in name resolution')': /simple/colossalai/\u001b[0m\u001b[33m\r\n",
      "\u001b[0m\u001b[31mERROR: Could not find a version that satisfies the requirement colossalai (from versions: none)\u001b[0m\u001b[31m\r\n",
      "\u001b[0m\u001b[31mERROR: No matching distribution found for colossalai\u001b[0m\u001b[31m\r\n",
      "\u001b[0mCollecting torch==2.2.1+cu121\r\n",
      "\u001b[33m  WARNING: Retrying (Retry(total=4, connect=None, read=None, redirect=None, status=None)) after connection broken by 'NewConnectionError('<pip._vendor.urllib3.connection.HTTPSConnection object at 0x7ef5a8ef3a90>: Failed to establish a new connection: [Errno -3] Temporary failure in name resolution')': /whl/cu121/torch-2.2.1%2Bcu121-cp310-cp310-linux_x86_64.whl\u001b[0m\u001b[33m\r\n",
      "\u001b[0m\u001b[33m  WARNING: Retrying (Retry(total=3, connect=None, read=None, redirect=None, status=None)) after connection broken by 'NewConnectionError('<pip._vendor.urllib3.connection.HTTPSConnection object at 0x7ef5a8ef3d90>: Failed to establish a new connection: [Errno -3] Temporary failure in name resolution')': /whl/cu121/torch-2.2.1%2Bcu121-cp310-cp310-linux_x86_64.whl\u001b[0m\u001b[33m\r\n",
      "\u001b[0m\u001b[33m  WARNING: Retrying (Retry(total=2, connect=None, read=None, redirect=None, status=None)) after connection broken by 'NewConnectionError('<pip._vendor.urllib3.connection.HTTPSConnection object at 0x7ef5a8ef3f70>: Failed to establish a new connection: [Errno -3] Temporary failure in name resolution')': /whl/cu121/torch-2.2.1%2Bcu121-cp310-cp310-linux_x86_64.whl\u001b[0m\u001b[33m\r\n",
      "\u001b[0m\u001b[33m  WARNING: Retrying (Retry(total=1, connect=None, read=None, redirect=None, status=None)) after connection broken by 'NewConnectionError('<pip._vendor.urllib3.connection.HTTPSConnection object at 0x7ef5a8ef3df0>: Failed to establish a new connection: [Errno -3] Temporary failure in name resolution')': /whl/cu121/torch-2.2.1%2Bcu121-cp310-cp310-linux_x86_64.whl\u001b[0m\u001b[33m\r\n",
      "\u001b[0m\u001b[33m  WARNING: Retrying (Retry(total=0, connect=None, read=None, redirect=None, status=None)) after connection broken by 'NewConnectionError('<pip._vendor.urllib3.connection.HTTPSConnection object at 0x7ef5a8f34280>: Failed to establish a new connection: [Errno -3] Temporary failure in name resolution')': /whl/cu121/torch-2.2.1%2Bcu121-cp310-cp310-linux_x86_64.whl\u001b[0m\u001b[33m\r\n",
      "\u001b[0m\u001b[31mERROR: Could not install packages due to an OSError: HTTPSConnectionPool(host='download.pytorch.org', port=443): Max retries exceeded with url: /whl/cu121/torch-2.2.1%2Bcu121-cp310-cp310-linux_x86_64.whl (Caused by NewConnectionError('<pip._vendor.urllib3.connection.HTTPSConnection object at 0x7ef5a8f34430>: Failed to establish a new connection: [Errno -3] Temporary failure in name resolution'))\r\n",
      "\u001b[0m\u001b[31m\r\n",
      "\u001b[0mCollecting xformers==0.0.25\r\n",
      "\u001b[33m  WARNING: Retrying (Retry(total=4, connect=None, read=None, redirect=None, status=None)) after connection broken by 'NewConnectionError('<pip._vendor.urllib3.connection.HTTPSConnection object at 0x79c48b27b790>: Failed to establish a new connection: [Errno -3] Temporary failure in name resolution')': /whl/cu121/xformers-0.0.25-cp310-cp310-manylinux2014_x86_64.whl\u001b[0m\u001b[33m\r\n",
      "\u001b[0m\u001b[33m  WARNING: Retrying (Retry(total=3, connect=None, read=None, redirect=None, status=None)) after connection broken by 'NewConnectionError('<pip._vendor.urllib3.connection.HTTPSConnection object at 0x79c48b27ba90>: Failed to establish a new connection: [Errno -3] Temporary failure in name resolution')': /whl/cu121/xformers-0.0.25-cp310-cp310-manylinux2014_x86_64.whl\u001b[0m\u001b[33m\r\n",
      "\u001b[0m\u001b[33m  WARNING: Retrying (Retry(total=2, connect=None, read=None, redirect=None, status=None)) after connection broken by 'NewConnectionError('<pip._vendor.urllib3.connection.HTTPSConnection object at 0x79c48b27bca0>: Failed to establish a new connection: [Errno -3] Temporary failure in name resolution')': /whl/cu121/xformers-0.0.25-cp310-cp310-manylinux2014_x86_64.whl\u001b[0m\u001b[33m\r\n",
      "\u001b[0m\u001b[33m  WARNING: Retrying (Retry(total=1, connect=None, read=None, redirect=None, status=None)) after connection broken by 'NewConnectionError('<pip._vendor.urllib3.connection.HTTPSConnection object at 0x79c48b27be50>: Failed to establish a new connection: [Errno -3] Temporary failure in name resolution')': /whl/cu121/xformers-0.0.25-cp310-cp310-manylinux2014_x86_64.whl\u001b[0m\u001b[33m\r\n",
      "\u001b[0m\u001b[33m  WARNING: Retrying (Retry(total=0, connect=None, read=None, redirect=None, status=None)) after connection broken by 'NewConnectionError('<pip._vendor.urllib3.connection.HTTPSConnection object at 0x79c48b27aa40>: Failed to establish a new connection: [Errno -3] Temporary failure in name resolution')': /whl/cu121/xformers-0.0.25-cp310-cp310-manylinux2014_x86_64.whl\u001b[0m\u001b[33m\r\n",
      "\u001b[0m\u001b[31mERROR: Could not install packages due to an OSError: HTTPSConnectionPool(host='download.pytorch.org', port=443): Max retries exceeded with url: /whl/cu121/xformers-0.0.25-cp310-cp310-manylinux2014_x86_64.whl (Caused by NewConnectionError('<pip._vendor.urllib3.connection.HTTPSConnection object at 0x79c48b2bc070>: Failed to establish a new connection: [Errno -3] Temporary failure in name resolution'))\r\n",
      "\u001b[0m\u001b[31m\r\n",
      "\u001b[0m[Errno 2] No such file or directory: '/content'\n",
      "/kaggle/working\n",
      "Cloning into 'apex'...\r\n",
      "fatal: unable to access 'https://github.com/NVIDIA/apex/': Could not resolve host: github.com\r\n",
      "[Errno 2] No such file or directory: '/content/apex'\n",
      "/kaggle/working\n",
      "Using pip 23.3.2 from /opt/conda/lib/python3.10/site-packages/pip (python 3.10)\r\n",
      "\u001b[31mERROR: Directory './' is not installable. Neither 'setup.py' nor 'pyproject.toml' found.\u001b[0m\u001b[31m\r\n",
      "\u001b[0m[Errno 2] No such file or directory: '/content'\n",
      "/kaggle/working\n",
      "Cloning into 'flash-attention'...\r\n",
      "fatal: unable to access 'https://github.com/Dao-AILab/flash-attention/': Could not resolve host: github.com\r\n",
      "[Errno 2] No such file or directory: '/content/flash-attention'\n",
      "/kaggle/working\n",
      "Using pip 23.3.2 from /opt/conda/lib/python3.10/site-packages/pip (python 3.10)\r\n",
      "Obtaining file:///kaggle/working\r\n",
      "\u001b[31mERROR: file:///kaggle/working does not appear to be a Python project: neither 'setup.py' nor 'pyproject.toml' found.\u001b[0m\u001b[31m\r\n",
      "\u001b[0m[Errno 2] No such file or directory: '/content'\n",
      "/kaggle/working\n",
      "Cloning into 'Open-Sora'...\r\n",
      "fatal: unable to access 'https://github.com/camenduru/Open-Sora/': Could not resolve host: github.com\r\n",
      "[Errno 2] No such file or directory: '/content/Open-Sora'\n",
      "/kaggle/working\n",
      "Using pip 23.3.2 from /opt/conda/lib/python3.10/site-packages/pip (python 3.10)\r\n",
      "Obtaining file:///kaggle/working\r\n",
      "\u001b[31mERROR: file:///kaggle/working does not appear to be a Python project: neither 'setup.py' nor 'pyproject.toml' found.\u001b[0m\u001b[31m\r\n",
      "\u001b[0mThe following additional packages will be installed:\r\n",
      "  libaria2-0 libc-ares2 libssh2-1\r\n",
      "The following NEW packages will be installed:\r\n",
      "  aria2 libaria2-0 libc-ares2 libssh2-1\r\n",
      "0 upgraded, 4 newly installed, 0 to remove and 64 not upgraded.\r\n",
      "Need to get 1551 kB of archives.\r\n",
      "After this operation, 6235 kB of additional disk space will be used.\r\n",
      "\u001b[1;31mE: \u001b[0mFailed to fetch http://security.ubuntu.com/ubuntu/pool/main/c/c-ares/libc-ares2_1.15.0-1ubuntu0.5_amd64.deb  Temporary failure resolving 'archive.ubuntu.com'\u001b[0m\r\n",
      "\u001b[1;31mE: \u001b[0mFailed to fetch http://security.ubuntu.com/ubuntu/pool/universe/libs/libssh2/libssh2-1_1.8.0-2.1ubuntu0.1_amd64.deb  Temporary failure resolving 'archive.ubuntu.com'\u001b[0m\r\n",
      "\u001b[1;31mE: \u001b[0mFailed to fetch http://archive.ubuntu.com/ubuntu/pool/universe/a/aria2/libaria2-0_1.35.0-1build1_amd64.deb  Temporary failure resolving 'archive.ubuntu.com'\u001b[0m\r\n",
      "\u001b[1;31mE: \u001b[0mFailed to fetch http://archive.ubuntu.com/ubuntu/pool/universe/a/aria2/aria2_1.35.0-1build1_amd64.deb  Temporary failure resolving 'archive.ubuntu.com'\u001b[0m\r\n",
      "\u001b[1;31mE: \u001b[0mUnable to fetch some archives, maybe run apt-get update or try with --fix-missing?\u001b[0m\r\n",
      "/bin/bash: aria2c: command not found\r\n",
      "Cloning into '/content/Open-Sora/pretrained_models/t5_ckpts/t5-v1_1-xxl'...\r\n",
      "fatal: unable to access 'https://huggingface.co/DeepFloyd/t5-v1_1-xxl/': Could not resolve host: huggingface.co\r\n"
     ]
    }
   ],
   "source": [
    "!pip install ninja colossalai mmengine\n",
    "!pip install https://download.pytorch.org/whl/cu121/torch-2.2.1%2Bcu121-cp310-cp310-linux_x86_64.whl\n",
    "!pip install https://download.pytorch.org/whl/cu121/xformers-0.0.25-cp310-cp310-manylinux2014_x86_64.whl\n",
    "\n",
    "%cd /content\n",
    "!git clone -b 23.05-devel https://github.com/NVIDIA/apex\n",
    "%cd /content/apex\n",
    "!pip install -v --disable-pip-version-check --no-cache-dir --global-option=\"--cpp_ext\" --global-option=\"--cuda_ext\" ./\n",
    "\n",
    "%cd /content\n",
    "!git clone https://github.com/Dao-AILab/flash-attention\n",
    "%cd /content/flash-attention\n",
    "!pip install -v -e .\n",
    "\n",
    "%cd /content\n",
    "!git clone -b dev https://github.com/camenduru/Open-Sora\n",
    "%cd /content/Open-Sora\n",
    "!pip install -v -e .\n",
    "\n",
    "!apt -y install -qq aria2\n",
    "!aria2c --console-log-level=error -c -x 16 -s 16 -k 1M https://huggingface.co/hpcai-tech/Open-Sora/resolve/main/OpenSora-v1-16x256x256.pth -d /content/Open-Sora/models -o OpenSora-v1-16x256x256.pth\n",
    "\n",
    "!git clone https://huggingface.co/DeepFloyd/t5-v1_1-xxl /content/Open-Sora/pretrained_models/t5_ckpts/t5-v1_1-xxl"
   ]
  },
  {
   "cell_type": "code",
   "execution_count": 2,
   "id": "7eee6cbf",
   "metadata": {
    "execution": {
     "iopub.execute_input": "2024-06-25T17:29:15.473857Z",
     "iopub.status.busy": "2024-06-25T17:29:15.473422Z",
     "iopub.status.idle": "2024-06-25T17:29:26.513868Z",
     "shell.execute_reply": "2024-06-25T17:29:26.512482Z"
    },
    "papermill": {
     "duration": 11.051616,
     "end_time": "2024-06-25T17:29:26.516826",
     "exception": false,
     "start_time": "2024-06-25T17:29:15.465210",
     "status": "completed"
    },
    "tags": []
   },
   "outputs": [
    {
     "name": "stdout",
     "output_type": "stream",
     "text": [
      "/content/Open-Sora\n",
      "[2024-06-25 17:29:20,658] torch.distributed.run: [WARNING] master_addr is only used for static rdzv_backend and when rdzv_endpoint is not specified.\r\n",
      "/opt/conda/bin/python3.10: can't open file '/content/Open-Sora/scripts/inference.py': [Errno 2] No such file or directory\r\n",
      "[2024-06-25 17:29:25,884] torch.distributed.elastic.multiprocessing.api: [ERROR] failed (exitcode: 2) local_rank: 0 (pid: 91) of binary: /opt/conda/bin/python3.10\r\n",
      "Traceback (most recent call last):\r\n",
      "  File \"/opt/conda/bin/torchrun\", line 8, in <module>\r\n",
      "    sys.exit(main())\r\n",
      "  File \"/opt/conda/lib/python3.10/site-packages/torch/distributed/elastic/multiprocessing/errors/__init__.py\", line 346, in wrapper\r\n",
      "    return f(*args, **kwargs)\r\n",
      "  File \"/opt/conda/lib/python3.10/site-packages/torch/distributed/run.py\", line 806, in main\r\n",
      "    run(args)\r\n",
      "  File \"/opt/conda/lib/python3.10/site-packages/torch/distributed/run.py\", line 797, in run\r\n",
      "    elastic_launch(\r\n",
      "  File \"/opt/conda/lib/python3.10/site-packages/torch/distributed/launcher/api.py\", line 134, in __call__\r\n",
      "    return launch_agent(self._config, self._entrypoint, list(args))\r\n",
      "  File \"/opt/conda/lib/python3.10/site-packages/torch/distributed/launcher/api.py\", line 264, in launch_agent\r\n",
      "    raise ChildFailedError(\r\n",
      "torch.distributed.elastic.multiprocessing.errors.ChildFailedError: \r\n",
      "============================================================\r\n",
      "scripts/inference.py FAILED\r\n",
      "------------------------------------------------------------\r\n",
      "Failures:\r\n",
      "  <NO_OTHER_FAILURES>\r\n",
      "------------------------------------------------------------\r\n",
      "Root Cause (first observed failure):\r\n",
      "[0]:\r\n",
      "  time      : 2024-06-25_17:29:25\r\n",
      "  host      : 4854b9c9e092\r\n",
      "  rank      : 0 (local_rank: 0)\r\n",
      "  exitcode  : 2 (pid: 91)\r\n",
      "  error_file: <N/A>\r\n",
      "  traceback : To enable traceback see: https://pytorch.org/docs/stable/elastic/errors.html\r\n",
      "============================================================\r\n"
     ]
    }
   ],
   "source": [
    "%cd /content/Open-Sora\n",
    "# Sample 16x256x256 (5s/sample)\n",
    "!torchrun --standalone --nproc_per_node 1 scripts/inference.py configs/opensora/inference/16x256x256.py --ckpt-path /content/Open-Sora/models/OpenSora-v1-16x256x256.pth"
   ]
  }
 ],
 "metadata": {
  "accelerator": "GPU",
  "colab": {
   "gpuType": "T4",
   "provenance": []
  },
  "kaggle": {
   "accelerator": "none",
   "dataSources": [],
   "dockerImageVersionId": 30732,
   "isGpuEnabled": false,
   "isInternetEnabled": false,
   "language": "python",
   "sourceType": "notebook"
  },
  "kernelspec": {
   "display_name": "Python 3",
   "language": "python",
   "name": "python3"
  },
  "language_info": {
   "codemirror_mode": {
    "name": "ipython",
    "version": 3
   },
   "file_extension": ".py",
   "mimetype": "text/x-python",
   "name": "python",
   "nbconvert_exporter": "python",
   "pygments_lexer": "ipython3",
   "version": "3.10.13"
  },
  "papermill": {
   "default_parameters": {},
   "duration": 681.446107,
   "end_time": "2024-06-25T17:29:26.947216",
   "environment_variables": {},
   "exception": null,
   "input_path": "__notebook__.ipynb",
   "output_path": "__notebook__.ipynb",
   "parameters": {},
   "start_time": "2024-06-25T17:18:05.501109",
   "version": "2.5.0"
  }
 },
 "nbformat": 4,
 "nbformat_minor": 5
}
